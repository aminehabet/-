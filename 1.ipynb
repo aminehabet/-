{
 "cells": [
  {
   "cell_type": "code",
   "execution_count": 1,
   "metadata": {},
   "outputs": [],
   "source": [
    "import numpy as np\n",
    "import matplotlib.pyplot as plt"
   ]
  },
  {
   "cell_type": "markdown",
   "metadata": {},
   "source": [
    "# А) Формирование матрицы гамильтониана. Сначала рассматривается свободное движение $(V = 0)$: "
   ]
  },
  {
   "cell_type": "code",
   "execution_count": 2,
   "metadata": {},
   "outputs": [],
   "source": [
    "size = 20"
   ]
  },
  {
   "cell_type": "code",
   "execution_count": 3,
   "metadata": {},
   "outputs": [],
   "source": [
    "#Matrix Hamilton h\n",
    "\n",
    "def generate(i,j):#for size = 20 and size = 100\n",
    "    if i == j: return 2.0 + V(i)\n",
    "    elif i - j == 1: return -1.0\n",
    "    elif j - i == 1: return -1.0\n",
    "    else: return 0.0\n",
    "\n",
    "def generate1(i,j): #for size = 1000\n",
    "    if i == j: return 2.0 + V1(i)\n",
    "    elif i - j == 1: return -1.0\n",
    "    elif j - i == 1: return -1.0\n",
    "    else: return 0.0\n",
    "\n",
    "def generate2(i,j): #for size = 1000 Пример существования двух локальных уровней\n",
    "    if i == j: return 2.0 + V2(i)\n",
    "    elif i - j == 1: return -1.0\n",
    "    elif j - i == 1: return -1.0 \n",
    "    else: return 0.0\n",
    "\n",
    "def generate3(i,j): #for size = 1000 #Пример формирования уровней в потенциальной яме\n",
    "    if i == j: return 2.0 + V3(i)\n",
    "    elif i - j == 1: return -1.0\n",
    "    elif j - i == 1: return -1.0 \n",
    "    else: return 0.0\n",
    "\n",
    "#Пример существования локального уровня: \n",
    "def V(n):\n",
    "    if n == 50: \n",
    "        v = -1\n",
    "    else:\n",
    "        v = 0\n",
    "    return v\n",
    "\n",
    "#Пример 2 существования локального уровня: \n",
    "def V1(n):\n",
    "    if n == 500: \n",
    "        v = -5\n",
    "    else:\n",
    "        if n == 6:\n",
    "            v = 0\n",
    "        else:\n",
    "            v = 0\n",
    "    return v\n",
    "\n",
    "#Пример существования двух локальных уровней\n",
    "def V2(n):\n",
    "    if n == 450: \n",
    "        v = -10\n",
    "    else:\n",
    "        if n == 550:\n",
    "            v = -5\n",
    "        else:\n",
    "            v = 0\n",
    "    return v\n",
    "\n",
    "#Пример формирования уровней в потенциальной яме: v\n",
    "def V3(n):\n",
    "    if abs(n - 500) <= 20: \n",
    "        v = -4\n",
    "    else:\n",
    "        v = 0\n",
    "    return v\n",
    "\n",
    "\n",
    "def hamilton(h):    \n",
    "    for i in range(size):\n",
    "        for j in range(size):\n",
    "            h[i][j] = generate(i,j)\n",
    "    return h\n",
    "\n",
    "def hamilton1(h):    \n",
    "    for i in range(size):\n",
    "        for j in range(size):\n",
    "            h[i][j] = generate1(i,j)\n",
    "    return h\n",
    "\n",
    "def hamilton2(h):    \n",
    "    for i in range(size):\n",
    "        for j in range(size):\n",
    "            h[i][j] = generate2(i,j)\n",
    "    return h\n",
    "\n",
    "def hamilton3(h):    \n",
    "    for i in range(size):\n",
    "        for j in range(size):\n",
    "            h[i][j] = generate3(i,j)\n",
    "    return h\n"
   ]
  },
  {
   "cell_type": "code",
   "execution_count": 4,
   "metadata": {},
   "outputs": [
    {
     "name": "stdout",
     "output_type": "stream",
     "text": [
      "[[ 2. -1.  0.  0.  0.  0.  0.  0.  0.  0.  0.  0.  0.  0.  0.  0.  0.  0.\n",
      "   0.  0.]\n",
      " [-1.  2. -1.  0.  0.  0.  0.  0.  0.  0.  0.  0.  0.  0.  0.  0.  0.  0.\n",
      "   0.  0.]\n",
      " [ 0. -1.  2. -1.  0.  0.  0.  0.  0.  0.  0.  0.  0.  0.  0.  0.  0.  0.\n",
      "   0.  0.]\n",
      " [ 0.  0. -1.  2. -1.  0.  0.  0.  0.  0.  0.  0.  0.  0.  0.  0.  0.  0.\n",
      "   0.  0.]\n",
      " [ 0.  0.  0. -1.  2. -1.  0.  0.  0.  0.  0.  0.  0.  0.  0.  0.  0.  0.\n",
      "   0.  0.]\n",
      " [ 0.  0.  0.  0. -1.  2. -1.  0.  0.  0.  0.  0.  0.  0.  0.  0.  0.  0.\n",
      "   0.  0.]\n",
      " [ 0.  0.  0.  0.  0. -1.  2. -1.  0.  0.  0.  0.  0.  0.  0.  0.  0.  0.\n",
      "   0.  0.]\n",
      " [ 0.  0.  0.  0.  0.  0. -1.  2. -1.  0.  0.  0.  0.  0.  0.  0.  0.  0.\n",
      "   0.  0.]\n",
      " [ 0.  0.  0.  0.  0.  0.  0. -1.  2. -1.  0.  0.  0.  0.  0.  0.  0.  0.\n",
      "   0.  0.]\n",
      " [ 0.  0.  0.  0.  0.  0.  0.  0. -1.  2. -1.  0.  0.  0.  0.  0.  0.  0.\n",
      "   0.  0.]\n",
      " [ 0.  0.  0.  0.  0.  0.  0.  0.  0. -1.  2. -1.  0.  0.  0.  0.  0.  0.\n",
      "   0.  0.]\n",
      " [ 0.  0.  0.  0.  0.  0.  0.  0.  0.  0. -1.  2. -1.  0.  0.  0.  0.  0.\n",
      "   0.  0.]\n",
      " [ 0.  0.  0.  0.  0.  0.  0.  0.  0.  0.  0. -1.  2. -1.  0.  0.  0.  0.\n",
      "   0.  0.]\n",
      " [ 0.  0.  0.  0.  0.  0.  0.  0.  0.  0.  0.  0. -1.  2. -1.  0.  0.  0.\n",
      "   0.  0.]\n",
      " [ 0.  0.  0.  0.  0.  0.  0.  0.  0.  0.  0.  0.  0. -1.  2. -1.  0.  0.\n",
      "   0.  0.]\n",
      " [ 0.  0.  0.  0.  0.  0.  0.  0.  0.  0.  0.  0.  0.  0. -1.  2. -1.  0.\n",
      "   0.  0.]\n",
      " [ 0.  0.  0.  0.  0.  0.  0.  0.  0.  0.  0.  0.  0.  0.  0. -1.  2. -1.\n",
      "   0.  0.]\n",
      " [ 0.  0.  0.  0.  0.  0.  0.  0.  0.  0.  0.  0.  0.  0.  0.  0. -1.  2.\n",
      "  -1.  0.]\n",
      " [ 0.  0.  0.  0.  0.  0.  0.  0.  0.  0.  0.  0.  0.  0.  0.  0.  0. -1.\n",
      "   2. -1.]\n",
      " [ 0.  0.  0.  0.  0.  0.  0.  0.  0.  0.  0.  0.  0.  0.  0.  0.  0.  0.\n",
      "  -1.  2.]]\n"
     ]
    }
   ],
   "source": [
    "h = np.zeros((size, size))\n",
    "h = hamilton(h)\n",
    "print('{}'.format(h))"
   ]
  },
  {
   "cell_type": "markdown",
   "metadata": {},
   "source": [
    "Стандартная программа np.linalg.eig[h] , позволяет отыскать список собственных значений eig (список) и соответствующих функций eve (список).  {eig,eve}=np.linalg.eig[h]; "
   ]
  },
  {
   "cell_type": "code",
   "execution_count": 5,
   "metadata": {},
   "outputs": [],
   "source": [
    "eig, eve = np.linalg.eig(h) #https://numpy.org/doc/stable/reference/generated/numpy.linalg.eig.html\n",
    "eig.sort()"
   ]
  },
  {
   "cell_type": "markdown",
   "metadata": {},
   "source": [
    "Пример списка из 20 уровней: "
   ]
  },
  {
   "cell_type": "code",
   "execution_count": 6,
   "metadata": {},
   "outputs": [
    {
     "name": "stdout",
     "output_type": "stream",
     "text": [
      "[0.02233835 0.08885439 0.19806226 0.34752245 0.53389626 0.7530204\n",
      " 1.         1.26931795 1.55495813 1.85053981 2.14946019 2.44504187\n",
      " 2.73068205 3.         3.2469796  3.46610374 3.65247755 3.80193774\n",
      " 3.91114561 3.97766165]\n"
     ]
    }
   ],
   "source": [
    "print('{}'.format(eig))"
   ]
  },
  {
   "cell_type": "markdown",
   "metadata": {},
   "source": [
    "Зависимость собственного значения от его номера: "
   ]
  },
  {
   "cell_type": "code",
   "execution_count": 7,
   "metadata": {},
   "outputs": [
    {
     "data": {
      "text/plain": [
       "Text(0.5, 0, 'n')"
      ]
     },
     "execution_count": 7,
     "metadata": {},
     "output_type": "execute_result"
    },
    {
     "data": {
      "image/png": "[encoded data removed]",
      "text/plain": [
       "<Figure size 432x288 with 1 Axes>"
      ]
     },
     "metadata": {
      "needs_background": "light"
     },
     "output_type": "display_data"
    }
   ],
   "source": [
    "plt.scatter([i for i in range(size)], eig)\n",
    "plt.ylabel('E_n')\n",
    "plt.xlabel('n')"
   ]
  },
  {
   "cell_type": "markdown",
   "metadata": {},
   "source": [
    "Пример существования локального уровня: size=100; "
   ]
  },
  {
   "cell_type": "code",
   "execution_count": 8,
   "metadata": {},
   "outputs": [],
   "source": [
    "size = 100"
   ]
  },
  {
   "cell_type": "code",
   "execution_count": 9,
   "metadata": {},
   "outputs": [],
   "source": [
    "h = np.zeros((size, size))\n",
    "h = hamilton(h)\n",
    "eig, eve = np.linalg.eig(h)\n",
    "eig.sort()"
   ]
  },
  {
   "cell_type": "code",
   "execution_count": 10,
   "metadata": {},
   "outputs": [
    {
     "data": {
      "text/plain": [
       "Text(0.5, 0, 'n')"
      ]
     },
     "execution_count": 10,
     "metadata": {},
     "output_type": "execute_result"
    },
    {
     "data": {
      "image/png": "[encoded data removed]",
      "text/plain": [
       "<Figure size 432x288 with 1 Axes>"
      ]
     },
     "metadata": {
      "needs_background": "light"
     },
     "output_type": "display_data"
    }
   ],
   "source": [
    "plt.scatter([i for i in range(size)], eig)\n",
    "plt.ylabel('E_n')\n",
    "plt.xlabel('n')"
   ]
  },
  {
   "cell_type": "code",
   "execution_count": 11,
   "metadata": {},
   "outputs": [
    {
     "name": "stdout",
     "output_type": "stream",
     "text": [
      "E = -0.23606797749978722\n"
     ]
    }
   ],
   "source": [
    "print('E = {}'.format(eig[0]))\n"
   ]
  },
  {
   "cell_type": "code",
   "execution_count": 12,
   "metadata": {},
   "outputs": [
    {
     "data": {
      "text/plain": [
       "Text(0.5, 0, 'n')"
      ]
     },
     "execution_count": 12,
     "metadata": {},
     "output_type": "execute_result"
    },
    {
     "data": {
      "image/png": "[encoded data removed]",
      "text/plain": [
       "<Figure size 432x288 with 1 Axes>"
      ]
     },
     "metadata": {
      "needs_background": "light"
     },
     "output_type": "display_data"
    }
   ],
   "source": [
    "plt.plot([i for i in range(size)], eve.T[0]**2 )\n",
    "plt.ylabel('ksi(n)')\n",
    "plt.xlabel('n')"
   ]
  },
  {
   "cell_type": "code",
   "execution_count": 13,
   "metadata": {},
   "outputs": [],
   "source": [
    "size = 1000"
   ]
  },
  {
   "cell_type": "code",
   "execution_count": 14,
   "metadata": {},
   "outputs": [],
   "source": [
    "h = np.zeros((size, size))\n",
    "h = hamilton1(h)\n",
    "eig, eve = np.linalg.eig(h)\n",
    "eig.sort() \n"
   ]
  },
  {
   "cell_type": "code",
   "execution_count": 15,
   "metadata": {},
   "outputs": [
    {
     "data": {
      "text/plain": [
       "Text(0.5, 0, 'n')"
      ]
     },
     "execution_count": 15,
     "metadata": {},
     "output_type": "execute_result"
    },
    {
     "data": {
      "image/png": "[encoded data removed]",
      "text/plain": [
       "<Figure size 432x288 with 1 Axes>"
      ]
     },
     "metadata": {
      "needs_background": "light"
     },
     "output_type": "display_data"
    }
   ],
   "source": [
    "plt.scatter([i for i in range(size)], eig)\n",
    "plt.ylabel('E_n')\n",
    "plt.xlabel('n')"
   ]
  },
  {
   "cell_type": "code",
   "execution_count": 16,
   "metadata": {},
   "outputs": [
    {
     "name": "stdout",
     "output_type": "stream",
     "text": [
      "E = -3.3851648071345166\n"
     ]
    }
   ],
   "source": [
    "print('E = {}'.format(eig[0]))\n"
   ]
  },
  {
   "cell_type": "markdown",
   "metadata": {},
   "source": [
    "Пример существования двух локальных уровней"
   ]
  },
  {
   "cell_type": "code",
   "execution_count": 17,
   "metadata": {},
   "outputs": [],
   "source": [
    "h = np.zeros((size, size))\n",
    "h = hamilton2(h)\n",
    "eig, eve = np.linalg.eig(h)\n",
    "eig.sort() "
   ]
  },
  {
   "cell_type": "code",
   "execution_count": 19,
   "metadata": {},
   "outputs": [
    {
     "data": {
      "text/plain": [
       "Text(0.5, 0, 'n')"
      ]
     },
     "execution_count": 19,
     "metadata": {},
     "output_type": "execute_result"
    },
    {
     "data": {
      "image/png": "[encoded data removed]",
      "text/plain": [
       "<Figure size 432x288 with 1 Axes>"
      ]
     },
     "metadata": {
      "needs_background": "light"
     },
     "output_type": "display_data"
    }
   ],
   "source": [
    "plt.scatter([i for i in range(size)], eig)\n",
    "plt.ylabel('E_n')\n",
    "plt.xlabel('n')"
   ]
  },
  {
   "cell_type": "markdown",
   "metadata": {},
   "source": [
    "Пример формирования уровней в потенциальной яме: "
   ]
  },
  {
   "cell_type": "code",
   "execution_count": 20,
   "metadata": {},
   "outputs": [],
   "source": [
    "h = np.zeros((size, size))\n",
    "h = hamilton3(h)\n",
    "eig, eve = np.linalg.eig(h)\n",
    "eig.sort() "
   ]
  },
  {
   "cell_type": "code",
   "execution_count": 21,
   "metadata": {},
   "outputs": [
    {
     "data": {
      "text/plain": [
       "Text(0.5, 0, 'n')"
      ]
     },
     "execution_count": 21,
     "metadata": {},
     "output_type": "execute_result"
    },
    {
     "data": {
      "image/png": "[encoded data removed]",
      "text/plain": [
       "<Figure size 432x288 with 1 Axes>"
      ]
     },
     "metadata": {
      "needs_background": "light"
     },
     "output_type": "display_data"
    }
   ],
   "source": [
    "plt.scatter([i for i in range(size)], eig)\n",
    "plt.ylabel('E_n')\n",
    "plt.xlabel('n')"
   ]
  },
  {
   "cell_type": "code",
   "execution_count": 22,
   "metadata": {},
   "outputs": [],
   "source": [
    "v=[]\n",
    "for i in range(size):\n",
    "    v.append(V3(i))"
   ]
  },
  {
   "cell_type": "code",
   "execution_count": 23,
   "metadata": {},
   "outputs": [
    {
     "data": {
      "text/plain": [
       "Text(0.5, 0, 'n')"
      ]
     },
     "execution_count": 23,
     "metadata": {},
     "output_type": "execute_result"
    },
    {
     "data": {
      "image/png": "[encoded data removed]",
      "text/plain": [
       "<Figure size 432x288 with 1 Axes>"
      ]
     },
     "metadata": {
      "needs_background": "light"
     },
     "output_type": "display_data"
    }
   ],
   "source": [
    "plt.plot([i for i in range(size)], v)\n",
    "plt.ylabel('V')\n",
    "plt.xlabel('n')"
   ]
  },
  {
   "cell_type": "code",
   "execution_count": null,
   "metadata": {},
   "outputs": [],
   "source": []
  }
 ],
 "metadata": {
  "kernelspec": {
   "display_name": "Python 3",
   "language": "python",
   "name": "python3"
  },
  "language_info": {
   "codemirror_mode": {
    "name": "ipython",
    "version": 3
   },
   "file_extension": ".py",
   "mimetype": "text/x-python",
   "name": "python",
   "nbconvert_exporter": "python",
   "pygments_lexer": "ipython3",
   "version": "3.8.2"
  }
 },
 "nbformat": 4,
 "nbformat_minor": 4
}
